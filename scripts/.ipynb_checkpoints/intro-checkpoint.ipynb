{
 "cells": [
  {
   "cell_type": "code",
   "execution_count": null,
   "id": "538a86e5",
   "metadata": {},
   "outputs": [],
   "source": [
    "usuario = []\n",
    "#Lista vacía\n",
    "\n",
    "nombre = input(\"¿Cuál es tu nombre? \")\n",
    "usuario.append(nombre)\n",
    "\n",
    "sexo = input(\"¿Cuál es tu sexo? \")\n",
    "usuario.append(sexo)\n",
    "\n",
    "edad = input(\"¿Cuál es tu edad? \")\n",
    "usuario.append(edad)\n",
    "\n",
    "email = input(\"¿Cuál es tu correo electrónico? \")\n",
    "usuario.append(email)\n",
    "\n",
    "ocupacion = input(\"¿Cuál es tu ocupación? \")\n",
    "usuario.append(ocupacion)\n",
    "\n",
    "print(\"Muchas gracias\")\n",
    "print(usuario)"
   ]
  },
  {
   "cell_type": "code",
   "execution_count": null,
   "id": "a99d0c4e",
   "metadata": {},
   "outputs": [],
   "source": [
    "salario_mensual = float(input(\"¿Cuánto ganas al mes?\"))\n",
    "\n",
    "salario_semanal = salario_mensual / 4\n",
    "salario_semestral = salario_mensual * 6\n",
    "salario_anual = salario_mensual * 12\n",
    "a = \"{:.2f}\".format(salario_semanal)\n",
    "b = \"{:.2f}\".format(salario_semestral)\n",
    "c = \"{:.2f}\".format(salario_anual)\n",
    "\n",
    "print(\"Digita 1 = Tu disposición de dinero semanal\")\n",
    "print(\"Digita 2 = Tu disposición de dinero semestral\")\n",
    "print(\"Digita 3 = Tu disposición de dinero anual\")\n",
    "opcion=int(input(\"¿Qué te gustaría saber?\"))           \n",
    "if opcion==1:\n",
    "    print(\"Tu disposición de dinero semanal es: \", a)   \n",
    "elif opcion==2:\n",
    "    print(\"Tu disposición de dinero semestral es: \",b)\n",
    "elif opcion==3:\n",
    "    print(\"Tu disposición de dinero anual es: \",c)\n",
    "else:\n",
    "    print(\"Opción incorrecta\")"
   ]
  },
  {
   "cell_type": "code",
   "execution_count": null,
   "id": "5c603f87",
   "metadata": {},
   "outputs": [],
   "source": [
    "Tasa = float(input(\"¿Cuál es la tasa anual?\"))\n",
    "Monto=float(input(\"¿Cuál es el monto prestado?\"))\n",
    "Plazo=int(input(\"¿Cuál es el plazo?(en años)\"))\n",
    "Plazo_mensual=Plazo*12\n",
    "Tasa_div=Tasa/100\n",
    "tasa_men=Tasa_div/12\n",
    "Monto_Total_Pago=Monto*(1+((tasa_men)*(Plazo_mensual)))\n",
    "a = \"{:.2f}\".format(Monto_Total_Pago)\n",
    "Pago_mensual=Monto_Total_Pago/Plazo_mensual\n",
    "b= \"{:.2f}\".format(Pago_mensual)\n",
    "print(f\"Debes pagar {a} total y {b} mensual\")"
   ]
  },
  {
   "cell_type": "code",
   "execution_count": null,
   "id": "e07c697f",
   "metadata": {},
   "outputs": [],
   "source": [
    "import math\n",
    "\n",
    "figura = input(\"¿Qué figura quieres calcular? (cuadrado, triangulo, circulo o rectangulo) \")\n",
    "\n",
    "if figura == \"cuadrado\":\n",
    "    lado = float(input(\"Introduce la medida del lado del cuadrado: \"))\n",
    "    area = lado ** 2\n",
    "    d=\"{:.2f}\".format(area)\n",
    "    print(\"El área del cuadrado es: \", d)\n",
    "    \n",
    "elif figura == \"triangulo\":\n",
    "    base = float(input(\"Introduce la medida de la base del triángulo: \"))\n",
    "    altura = float(input(\"Introduce la medida de la altura del triángulo: \"))\n",
    "    area = (base * altura) / 2\n",
    "    a=\"{:.2f}\".format(area)\n",
    "    print(\"El área del triángulo es: \", a)\n",
    "    \n",
    "elif figura == \"circulo\":\n",
    "    radio = float(input(\"Introduce la medida del radio del círculo: \"))\n",
    "    area = math.pi * (radio ** 2)\n",
    "    b=\"{:.2f}\".format(area)\n",
    "    print(\"El área del círculo es: \", b)\n",
    "    \n",
    "elif figura == \"rectangulo\":\n",
    "    base = float(input(\"Introduce la medida de la base del rectángulo: \"))\n",
    "    altura = float(input(\"Introduce la medida de la altura del rectángulo: \"))\n",
    "    area = base * altura\n",
    "    c=\"{:.2f}\".format(area)\n",
    "    print(\"El área del rectángulo es: \", c)\n",
    "    \n",
    "else:\n",
    "    print(\"Figura no válida\")"
   ]
  }
 ],
 "metadata": {
  "kernelspec": {
   "display_name": "Python 3 (ipykernel)",
   "language": "python",
   "name": "python3"
  },
  "language_info": {
   "codemirror_mode": {
    "name": "ipython",
    "version": 3
   },
   "file_extension": ".py",
   "mimetype": "text/x-python",
   "name": "python",
   "nbconvert_exporter": "python",
   "pygments_lexer": "ipython3",
   "version": "3.10.8"
  }
 },
 "nbformat": 4,
 "nbformat_minor": 5
}
